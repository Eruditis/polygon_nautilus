{
 "cells": [
  {
   "cell_type": "code",
   "execution_count": 16,
   "metadata": {
    "pycharm": {
     "name": "#%%\n"
    }
   },
   "outputs": [],
   "source": [
    "import traceback\n",
    "# from csv import writer\n",
    "from csv import DictWriter\n",
    "import pandas as pd\n",
    "# from sqlalchemy import create_engine, text\n",
    "from datetime import datetime, date, timedelta\n",
    "import time\n",
    "import config\n",
    "from datetime import timezone\n",
    "from polygon import StocksClient\n",
    "from polygon import ReferenceClient\n",
    "from typing import Iterator, Optional\n",
    "import io\n",
    "import asyncio\n",
    "# import asyncpg\n",
    "import json\n",
    "from itertools import dropwhile\n",
    "# import uvloop  # Unix only\n",
    "# import nautilus_trader\n",
    "# from nautilus_trader.model.data.tick import QuoteTick\n",
    "# from nautilus_trader.model.objects import Price, Quantity\n",
    "# from nautilus_trader.core.datetime import dt_to_unix_nanos\n",
    "from nautilus_trader.persistence.catalog import ParquetDataCatalog\n",
    "from nautilus_trader.backtest.data.providers import TestInstrumentProvider\n",
    "from nautilus_trader.model.currencies import USD\n",
    "from nautilus_trader.model.currency import Currency\n",
    "from nautilus_trader.model.enums import AssetClass, AggregationSource, BarAggregation, PriceType\n",
    "from nautilus_trader.model.enums import OptionKind\n",
    "from nautilus_trader.model.identifiers import InstrumentId\n",
    "from nautilus_trader.model.identifiers import Symbol\n",
    "from nautilus_trader.model.identifiers import Venue\n",
    "from nautilus_trader.model.instruments.currency_pair import CurrencyPair\n",
    "from nautilus_trader.model.instruments.equity import Equity\n",
    "from nautilus_trader.model.instruments.future import Future\n",
    "from nautilus_trader.model.instruments.option import Option\n",
    "from nautilus_trader.model.objects import Money\n",
    "from nautilus_trader.model.objects import Price\n",
    "from nautilus_trader.model.objects import Quantity\n",
    "from nautilus_trader.persistence.external.core import write_objects\n",
    "from nautilus_trader.model.data.bar import BarType, BarSpecification\n",
    "from nautilus_trader.backtest.data.wranglers import BarDataWrangler"
   ]
  },
  {
   "cell_type": "code",
   "execution_count": 17,
   "metadata": {
    "pycharm": {
     "name": "#%%\n"
    }
   },
   "outputs": [],
   "source": [
    "stock_cols = ['symbol', 'tick_volume', 'total_volume', 'opening_price', 'tick_vwap', 'tick_open', 'tick_close', 'tick_high', 'tick_low', 'vwap', 'avg_trade_size', 'time_beg', 'time_end', 'tdate', 'save_date']\n",
    "key = config.polygon_key\n",
    "symbol = ['TSLA']"
   ]
  },
  {
   "cell_type": "code",
   "execution_count": 18,
   "metadata": {
    "pycharm": {
     "name": "#%%\n"
    }
   },
   "outputs": [
    {
     "data": {
      "text/plain": [
       "['TSLA']"
      ]
     },
     "execution_count": 18,
     "metadata": {},
     "output_type": "execute_result"
    }
   ],
   "source": [
    "symbol\n",
    "#await stocks_client.close()"
   ]
  },
  {
   "cell_type": "code",
   "execution_count": 19,
   "metadata": {
    "pycharm": {
     "name": "#%%\n"
    }
   },
   "outputs": [
    {
     "name": "stdout",
     "output_type": "stream",
     "text": [
      "CPU times: total: 0 ns\n",
      "Wall time: 0 ns\n"
     ]
    }
   ],
   "source": [
    "catalog_path = 'C:\\Repos\\polygon_nautilus\\.data\\polygon_nautilus'\n",
    "\n",
    "# Create an instance of the ParquetDataCatalog\n",
    "%time catalog = ParquetDataCatalog(catalog_path)"
   ]
  },
  {
   "cell_type": "code",
   "execution_count": 20,
   "metadata": {
    "pycharm": {
     "name": "#%%\n"
    }
   },
   "outputs": [
    {
     "name": "stdout",
     "output_type": "stream",
     "text": [
      "CPU times: total: 0 ns\n",
      "Wall time: 0 ns\n",
      "CPU times: total: 46.9 ms\n",
      "Wall time: 2.72 s\n",
      "CPU times: total: 0 ns\n",
      "Wall time: 0 ns\n"
     ]
    },
    {
     "data": {
      "text/plain": [
       "<bound method BaseClient.close of <polygon.reference_apis.reference_api.SyncReferenceClient object at 0x0000015877287D90>>"
      ]
     },
     "execution_count": 20,
     "metadata": {},
     "output_type": "execute_result"
    }
   ],
   "source": [
    "%time ref_client = ReferenceClient(key, False)\n",
    "%time tickers = ref_client.get_tickers(market='stocks', all_pages=True, merge_all_pages=True)\n",
    "%time ref_client.close"
   ]
  },
  {
   "cell_type": "code",
   "execution_count": 21,
   "metadata": {
    "pycharm": {
     "name": "#%%\n"
    }
   },
   "outputs": [
    {
     "name": "stdout",
     "output_type": "stream",
     "text": [
      "CPU times: total: 0 ns\n",
      "Wall time: 29 ms\n",
      "CPU times: total: 0 ns\n",
      "Wall time: 5.08 ms\n",
      "CPU times: total: 0 ns\n",
      "Wall time: 6 ms\n"
     ]
    }
   ],
   "source": [
    "%time df = pd.DataFrame.from_dict(tickers)\n",
    "%time df.cik = df['cik'].astype(str)\n",
    "%time df = df[df['ticker'].isin(symbol)]"
   ]
  },
  {
   "cell_type": "code",
   "execution_count": 22,
   "metadata": {},
   "outputs": [
    {
     "data": {
      "text/plain": [
       "10889    TSLA\n",
       "Name: ticker, dtype: object"
      ]
     },
     "execution_count": 22,
     "metadata": {},
     "output_type": "execute_result"
    }
   ],
   "source": [
    "df['ticker']"
   ]
  },
  {
   "cell_type": "code",
   "execution_count": 23,
   "metadata": {},
   "outputs": [],
   "source": [
    "def generic_equity(ticker_symbol: str, ticker_venue: Venue, currency, cik) -> Equity:\n",
    "    return Equity(\n",
    "        instrument_id=InstrumentId(symbol=Symbol(ticker_symbol), venue=Venue(ticker_venue)),\n",
    "        native_symbol=Symbol(ticker_symbol),\n",
    "        currency=USD,\n",
    "        price_precision=2,\n",
    "        price_increment=Price.from_str(\"0.01\"),\n",
    "        multiplier=Quantity.from_int(1),\n",
    "        lot_size=Quantity.from_int(1),\n",
    "        isin=cik,  # we should be converting this to isin...\n",
    "        ts_event=0,\n",
    "        ts_init=0,\n",
    "    )"
   ]
  },
  {
   "cell_type": "code",
   "execution_count": 24,
   "metadata": {
    "pycharm": {
     "name": "#%%\n"
    }
   },
   "outputs": [
    {
     "name": "stdout",
     "output_type": "stream",
     "text": [
      "CPU times: total: 0 ns\n",
      "Wall time: 0 ns\n"
     ]
    }
   ],
   "source": [
    "for index, row in df.iterrows():\n",
    "    %time instrument = generic_equity(row.ticker, row.primary_exchange, row.currency_name, row.cik)"
   ]
  },
  {
   "cell_type": "code",
   "execution_count": 25,
   "metadata": {},
   "outputs": [
    {
     "data": {
      "text/plain": [
       "Equity(id=TSLA.XNAS, native_symbol=TSLA, asset_class=EQUITY, asset_type=SPOT, quote_currency=USD, is_inverse=False, price_precision=2, price_increment=0.01, size_precision=0, size_increment=1, multiplier=1, lot_size=1, margin_init=0, margin_maint=0, maker_fee=0, taker_fee=0, info={})"
      ]
     },
     "execution_count": 25,
     "metadata": {},
     "output_type": "execute_result"
    }
   ],
   "source": [
    "instrument"
   ]
  },
  {
   "cell_type": "code",
   "execution_count": 26,
   "metadata": {
    "pycharm": {
     "name": "#%%\n"
    }
   },
   "outputs": [
    {
     "name": "stdout",
     "output_type": "stream",
     "text": [
      "CPU times: total: 15.6 ms\n",
      "Wall time: 37.7 ms\n"
     ]
    }
   ],
   "source": [
    "%time write_objects(catalog, [instrument])"
   ]
  },
  {
   "cell_type": "code",
   "execution_count": 27,
   "metadata": {},
   "outputs": [],
   "source": [
    "start_date = date(2021, 1, 1)\n",
    "end_date = date(2021, 1, 31)"
   ]
  },
  {
   "cell_type": "code",
   "execution_count": 28,
   "metadata": {},
   "outputs": [
    {
     "data": {
      "text/plain": [
       "(datetime.date(2021, 1, 1), datetime.date(2021, 1, 31))"
      ]
     },
     "execution_count": 28,
     "metadata": {},
     "output_type": "execute_result"
    }
   ],
   "source": [
    "start_date, end_date"
   ]
  },
  {
   "cell_type": "code",
   "execution_count": null,
   "outputs": [],
   "source": [
    "%time stocks_client = StocksClient(key, use_async=True, read_timeout=60)  # Async client"
   ],
   "metadata": {
    "collapsed": false,
    "pycharm": {
     "name": "#%%\n"
    }
   }
  },
  {
   "cell_type": "code",
   "execution_count": null,
   "outputs": [],
   "source": [
    "async def get_bar_data(ticker: str, start_date, end_date):\n",
    "    resp = await stocks_client.get_aggregate_bars(symbol=ticker\n",
    "                                            , from_date=start_date, to_date=end_date, timespan='minute'\n",
    "                                            , full_range=True, run_parallel=True, max_concurrent_workers=8\n",
    "                                            , high_volatility=True, warnings=False, adjusted=True)\n",
    "\n",
    "    for d in resp:\n",
    "        d.setdefault('a')\n",
    "        d.setdefault('op')\n",
    "        d.setdefault('n')\n",
    "        d.setdefault('vw')\n",
    "        if 'a' in d:\n",
    "            del d['a']\n",
    "        if 'n' in d:\n",
    "            del d['n']\n",
    "        if 'op' in d:\n",
    "            del d['op']\n",
    "    resp = [{'v': d['v'], 'vw': d['vw'], 'o': d['o'], 'c': d['c'], 'h': d['h'], 'l': d['l'], 't': d['t']} for d in resp]\n",
    "    for d in resp:\n",
    "        d['bar_volume'] = d.pop('v')\n",
    "        d['bar_vwap'] = d.pop('vw')\n",
    "        d['bar_open'] = d.pop('o')\n",
    "        d['bar_close'] = d.pop('c')\n",
    "        d['bar_high'] = d.pop('h')\n",
    "        d['bar_low'] = d.pop('l')\n",
    "        d['bar_time_start'] = d.pop('t')\n",
    "        d['symbol'] = ticker\n",
    "        d['bar_volume'] = int(d['bar_volume'])\n",
    "        d['timestamp'] = unix_convert(d['bar_time_start'])  # pd.Timestamp(d['bar_time_start'], tz='UTC')  # pd.Timestamp(datetime.datetime.strptime(d['bar_time_start'].decode(), \"%Y%m%d %H%M%S%f\"), tz='UTC')\n",
    "        d['save_date'] = datetime.now(timezone.utc)\n",
    "\n",
    "    resp = [{'symbol': d['symbol'], 'bar_time_start': d['bar_time_start'], 'open': d['bar_open'], 'high': d['bar_high'],\n",
    "             'low': d['bar_low'], 'close': d['bar_close'], 'volume': d['bar_volume'], 'vwap': d['bar_vwap'],\n",
    "             'timestamp': d['timestamp'], 'save_date': d['save_date']\n",
    "             } for d in resp]\n",
    "\n",
    "    print('hi')\n",
    "\n",
    "    return resp"
   ],
   "metadata": {
    "collapsed": false,
    "pycharm": {
     "name": "#%%\n"
    }
   }
  },
  {
   "cell_type": "code",
   "execution_count": null,
   "outputs": [],
   "source": [
    "await get_bar_data(instrument.symbol, start_date, end_date)"
   ],
   "metadata": {
    "collapsed": false,
    "pycharm": {
     "name": "#%%\n"
    }
   }
  },
  {
   "cell_type": "code",
   "execution_count": null,
   "outputs": [],
   "source": [
    "ticker_dict"
   ],
   "metadata": {
    "collapsed": false,
    "pycharm": {
     "name": "#%%\n"
    }
   }
  },
  {
   "cell_type": "code",
   "execution_count": null,
   "outputs": [],
   "source": [
    "nautilus_bars = asyncio.run(get_instrument_data(instrument))\n",
    "# write bars to catalog\n",
    "\n",
    "print(f\"Done processing ticker {row.ticker}\")"
   ],
   "metadata": {
    "collapsed": false,
    "pycharm": {
     "name": "#%%\n"
    }
   }
  },
  {
   "cell_type": "code",
   "execution_count": null,
   "outputs": [],
   "source": [],
   "metadata": {
    "collapsed": false,
    "pycharm": {
     "name": "#%%\n"
    }
   }
  },
  {
   "cell_type": "code",
   "execution_count": 43,
   "metadata": {},
   "outputs": [
    {
     "data": {
      "text/plain": [
       "<coroutine object get_bar_data at 0x0000015877332F80>"
      ]
     },
     "execution_count": 43,
     "metadata": {},
     "output_type": "execute_result"
    }
   ],
   "source": [
    "ticker_dict"
   ]
  },
  {
   "cell_type": "code",
   "execution_count": null,
   "metadata": {},
   "outputs": [],
   "source": [
    "nautilus_bars = asyncio.run(get_instrument_data(instrument))\n",
    "# write bars to catalog\n",
    "\n",
    "print(f\"Done processing ticker {row.ticker}\")"
   ]
  },
  {
   "cell_type": "code",
   "execution_count": null,
   "metadata": {
    "pycharm": {
     "name": "#%%\n"
    }
   },
   "outputs": [],
   "source": []
  },
  {
   "cell_type": "code",
   "execution_count": null,
   "metadata": {},
   "outputs": [],
   "source": []
  },
  {
   "cell_type": "code",
   "execution_count": null,
   "metadata": {},
   "outputs": [],
   "source": [
    "stocks_client = StocksClient(key, use_async=True, read_timeout=60)  # Async client"
   ]
  },
  {
   "cell_type": "code",
   "execution_count": null,
   "metadata": {},
   "outputs": [],
   "source": [
    "try:\n",
    "    for index, row in df.iterrows():\n",
    "        instrument = generic_equity(row.ticker, row.primary_exchange, row.currency_name, row.cik)\n",
    "        write_objects(catalog, [instrument])\n",
    "\n",
    "        nautilus_bars = asyncio.run(get_instrument_data(instrument))\n",
    "        # write bars to catalog\n",
    "\n",
    "        print(f\"Done processing ticker {row.ticker}\")\n",
    "\n",
    "except Exception as e:\n",
    "    print(e)\n",
    "    traceback.print_exc()\n",
    "\n",
    "finally:\n",
    "    await stocks_client.close()"
   ]
  }
 ],
 "metadata": {
  "kernelspec": {
   "display_name": "Python 3 (ipykernel)",
   "language": "python",
   "name": "python3"
  },
  "language_info": {
   "codemirror_mode": {
    "name": "ipython",
    "version": 3
   },
   "file_extension": ".py",
   "mimetype": "text/x-python",
   "name": "python",
   "nbconvert_exporter": "python",
   "pygments_lexer": "ipython3",
   "version": "3.10.6"
  }
 },
 "nbformat": 4,
 "nbformat_minor": 1
}